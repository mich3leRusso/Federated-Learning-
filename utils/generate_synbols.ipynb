{
 "cells": [
  {
   "cell_type": "code",
   "execution_count": 1,
   "metadata": {},
   "outputs": [],
   "source": [
    "#!pip install torchvision"
   ]
  },
  {
   "cell_type": "code",
   "execution_count": 2,
   "metadata": {},
   "outputs": [
    {
     "name": "stderr",
     "output_type": "stream",
     "text": [
      "/davinci-1/home/dmor/.local/lib/python3.10/site-packages/synbols/utils.py:212: UserWarning: The locale data path was not found.         Did you execute the code with the 'synbols' executable?\n",
      "  warn(\"The locale data path was not found. \\\n",
      "/davinci-1/home/dmor/.local/lib/python3.10/site-packages/synbols/fonts/__init__.py:9: UserWarning: No locale files were found.     Did you execute the code with the 'synbols' executable?\n",
      "  warn(\"No locale files were found. \\\n"
     ]
    }
   ],
   "source": [
    "import numpy as np\n",
    "import matplotlib.pyplot as plt\n",
    "from torch.utils.data import Dataset\n",
    "from torchvision import transforms as T\n",
    "from torch.utils.data import Subset\n",
    "import random\n",
    "\n",
    "import synbols\n",
    "from synbols.fonts import LANGUAGE_MAP\n",
    "from synbols.data_io import pack_dataset\n",
    "from synbols import generate\n",
    "from synbols import drawing\n",
    "from synbols.drawing import Camouflage, NoPattern, SolidColor, MultiGradient, ImagePattern\n",
    "from synbols.fonts import LANGUAGE_MAP\n",
    "from synbols.generate import (\n",
    "    dataset_generator,\n",
    "    basic_attribute_sampler,\n",
    "    flatten_mask,\n",
    "    flatten_mask_except_first,\n",
    "    add_occlusion,\n",
    "    rand_seed,\n",
    ")\n",
    "from synbols.visualization import plot_dataset\n",
    "from pprint import pprint\n",
    "\n",
    "\n",
    "%matplotlib inline\n",
    "\n",
    "def show_ds(attr_sampler, verbose=False, show_mask=False):\n",
    "    \"\"\"Generate and show a Synbols dataset from an attribute sampler.\"\"\"\n",
    "    x, mask, y = pack_dataset(generate.dataset_generator(attr_sampler, 100, generate.flatten_mask))\n",
    "    if verbose:\n",
    "        print(\"Example of a label\")\n",
    "        pprint(y[0])\n",
    "\n",
    "    plt.figure('dataset', figsize=[5, 5])\n",
    "    plot_dataset(x, y,h_axis=None,v_axis=None, n_row=10, n_col=10)\n",
    "\n",
    "    plt.show()\n",
    "    if show_mask:\n",
    "        plt.figure('dataset', figsize=[5, 5])\n",
    "        plot_dataset(mask, y,h_axis=None,v_axis=None, n_row=10, n_col=10)\n",
    "\n",
    "        plt.show()"
   ]
  },
  {
   "cell_type": "markdown",
   "metadata": {},
   "source": [
    "# params"
   ]
  },
  {
   "cell_type": "code",
   "execution_count": 2,
   "metadata": {},
   "outputs": [],
   "source": [
    "N_CLASSES = 200\n",
    "N_TRAIN = 100000\n",
    "N_VAL = 10000\n",
    "N_TEST = 10000\n",
    "\n",
    "N_TASKS = 10"
   ]
  },
  {
   "cell_type": "code",
   "execution_count": 2,
   "metadata": {},
   "outputs": [
    {
     "data": {
      "text/plain": [
       "{}"
      ]
     },
     "execution_count": 2,
     "metadata": {},
     "output_type": "execute_result"
    }
   ],
   "source": [
    "LANGUAGE_MAP"
   ]
  },
  {
   "cell_type": "markdown",
   "metadata": {},
   "source": [
    "# dset specs"
   ]
  },
  {
   "cell_type": "code",
   "execution_count": 3,
   "metadata": {},
   "outputs": [
    {
     "ename": "KeyError",
     "evalue": "'japanese'",
     "output_type": "error",
     "traceback": [
      "\u001b[0;31m---------------------------------------------------------------------------\u001b[0m",
      "\u001b[0;31mKeyError\u001b[0m                                  Traceback (most recent call last)",
      "Cell \u001b[0;32mIn[3], line 2\u001b[0m\n\u001b[1;32m      1\u001b[0m bg \u001b[38;5;241m=\u001b[39m drawing\u001b[38;5;241m.\u001b[39mMultiGradient(alpha\u001b[38;5;241m=\u001b[39m\u001b[38;5;241m0.9\u001b[39m, n_gradients\u001b[38;5;241m=\u001b[39m\u001b[38;5;241m1\u001b[39m, types\u001b[38;5;241m=\u001b[39m(\u001b[38;5;124m'\u001b[39m\u001b[38;5;124mlinear\u001b[39m\u001b[38;5;124m'\u001b[39m, \u001b[38;5;124m'\u001b[39m\u001b[38;5;124mradial\u001b[39m\u001b[38;5;124m'\u001b[39m))\n\u001b[0;32m----> 2\u001b[0m alphabet \u001b[38;5;241m=\u001b[39m \u001b[43mLANGUAGE_MAP\u001b[49m\u001b[43m[\u001b[49m\u001b[38;5;124;43m\"\u001b[39;49m\u001b[38;5;124;43mjapanese\u001b[39;49m\u001b[38;5;124;43m\"\u001b[39;49m\u001b[43m]\u001b[49m\u001b[38;5;241m.\u001b[39mget_alphabet(support_bold\u001b[38;5;241m=\u001b[39m\u001b[38;5;28;01mTrue\u001b[39;00m)\n\u001b[1;32m      3\u001b[0m chars \u001b[38;5;241m=\u001b[39m alphabet\u001b[38;5;241m.\u001b[39msymbols[:N_CLASSES]\n\u001b[1;32m      4\u001b[0m fonts \u001b[38;5;241m=\u001b[39m alphabet\u001b[38;5;241m.\u001b[39mfonts\n",
      "\u001b[0;31mKeyError\u001b[0m: 'japanese'"
     ]
    }
   ],
   "source": [
    "bg = drawing.MultiGradient(alpha=0.9, n_gradients=1, types=('linear', 'radial'))\n",
    "alphabet = LANGUAGE_MAP[\"japanese\"].get_alphabet(support_bold=True)\n",
    "chars = alphabet.symbols[:N_CLASSES]\n",
    "fonts = alphabet.fonts\n",
    "attr_sampler = basic_attribute_sampler(inverse_color=False, background = bg, char=lambda rng: rng.choice(chars), font=lambda rng: rng.choice(fonts))\n",
    "show_ds(attr_sampler, verbose=False)"
   ]
  },
  {
   "cell_type": "markdown",
   "metadata": {},
   "source": [
    "# create numpy arrays"
   ]
  },
  {
   "cell_type": "code",
   "execution_count": 4,
   "metadata": {
    "scrolled": true
   },
   "outputs": [
    {
     "name": "stderr",
     "output_type": "stream",
     "text": [
      "100%|██████████| 120000/120000 [04:06<00:00, 487.65it/s]\n"
     ]
    }
   ],
   "source": [
    "# generate data\n",
    "x, s, y = pack_dataset(generate.dataset_generator(attr_sampler, N_TRAIN+N_TEST+N_VAL, generate.flatten_mask))"
   ]
  },
  {
   "cell_type": "code",
   "execution_count": 5,
   "metadata": {},
   "outputs": [],
   "source": [
    "# split train test val\n",
    "x_train, segmentation_train, y_train = x[:N_TRAIN], s[:N_TRAIN] ,y[:N_TRAIN]\n",
    "x_test, segmentation_test, y_test = x[N_TRAIN:N_TRAIN+N_TEST], s[N_TRAIN:N_TRAIN+N_TEST] ,y[N_TRAIN:N_TRAIN+N_TEST]\n",
    "x_val, segmentation_val, y_val = x[N_TRAIN+N_TEST:], s[N_TRAIN+N_TEST:] ,y[N_TRAIN+N_TEST:]"
   ]
  },
  {
   "cell_type": "code",
   "execution_count": 6,
   "metadata": {},
   "outputs": [
    {
     "data": {
      "text/plain": [
       "((100000, 32, 32, 3), (10000, 32, 32, 3), (10000, 32, 32, 3))"
      ]
     },
     "execution_count": 6,
     "metadata": {},
     "output_type": "execute_result"
    }
   ],
   "source": [
    "x_train.shape, x_test.shape, x_val.shape"
   ]
  },
  {
   "cell_type": "code",
   "execution_count": 7,
   "metadata": {},
   "outputs": [
    {
     "data": {
      "text/plain": [
       "{'resolution': (32, 32),\n",
       " 'pixel_noise_scale': 0.01,\n",
       " 'seed': 2990707234,\n",
       " 'background': {'style': 'MultiGradient', 'seed': None},\n",
       " 'alphabet': 'english',\n",
       " 'char': '了',\n",
       " 'font': 'SeoulNamsan CM',\n",
       " 'is_bold': 'True',\n",
       " 'is_slant': 'False',\n",
       " 'scale': 0.5368901249634197,\n",
       " 'translation': (-0.8565844554849888, -0.7903197675331551),\n",
       " 'rotation': 0.7399809270998429,\n",
       " 'foreground': {'style': 'Gradient', 'seed': 4170507705},\n",
       " 'symbols': [{'alphabet': 'english',\n",
       "   'char': '了',\n",
       "   'font': 'SeoulNamsan CM',\n",
       "   'is_bold': 'True',\n",
       "   'is_slant': 'False',\n",
       "   'scale': 0.5368901249634197,\n",
       "   'translation': (-0.8565844554849888, -0.7903197675331551),\n",
       "   'rotation': 0.7399809270998429,\n",
       "   'foreground': {'style': 'Gradient', 'seed': 4170507705}}],\n",
       " 'overlap_score': 0.0}"
      ]
     },
     "execution_count": 7,
     "metadata": {},
     "output_type": "execute_result"
    }
   ],
   "source": [
    "y_train[0]"
   ]
  },
  {
   "cell_type": "markdown",
   "metadata": {},
   "source": [
    "# GET STATISTICS"
   ]
  },
  {
   "cell_type": "code",
   "execution_count": 8,
   "metadata": {},
   "outputs": [],
   "source": [
    "def get_stats(x):\n",
    "    tmp = x / 255\n",
    "    mu = tmp[:,:,:,0].mean(), tmp[:,:,:,1].mean(), tmp[:,:,:,2].mean()\n",
    "    std = tmp[:,:,:,0].std(), tmp[:,:,:,1].std(), tmp[:,:,:,2].std()\n",
    "    return mu, std"
   ]
  },
  {
   "cell_type": "code",
   "execution_count": 9,
   "metadata": {},
   "outputs": [
    {
     "name": "stdout",
     "output_type": "stream",
     "text": [
      "Train:  ((0.4792642212009804, 0.4790768438265941, 0.47828154484527813), (0.2841457880023103, 0.2845630535135729, 0.2840738323301523))\n",
      "Test:  ((0.47531651348039183, 0.48039774471507335, 0.47890882238051447), (0.284243728119652, 0.2828713225159061, 0.285577505094918))\n"
     ]
    }
   ],
   "source": [
    "print('Train: ', get_stats(x_train))\n",
    "print('Test: ', get_stats(x_test))"
   ]
  },
  {
   "cell_type": "markdown",
   "metadata": {},
   "source": [
    "# SAVE DATA"
   ]
  },
  {
   "cell_type": "code",
   "execution_count": 10,
   "metadata": {},
   "outputs": [],
   "source": [
    "with open('train.npz', 'wb') as f:\n",
    "    np.savez(f, x_train=x_train, segmentation_train=segmentation_train, y_train=y_train, stats=get_stats(x_train))"
   ]
  },
  {
   "cell_type": "code",
   "execution_count": 11,
   "metadata": {},
   "outputs": [],
   "source": [
    "with open('test.npz', 'wb') as f:\n",
    "    np.savez(f, x_test=x_test, segmentation_test=segmentation_test, y_test=y_test, stats=get_stats(x_test))"
   ]
  },
  {
   "cell_type": "code",
   "execution_count": 12,
   "metadata": {},
   "outputs": [],
   "source": [
    "with open('val.npz', 'wb') as f:\n",
    "    np.savez(f, x_val=x_val, segmentation_val=segmentation_val, y_val=y_val, stats=get_stats(x_val))"
   ]
  },
  {
   "cell_type": "markdown",
   "metadata": {},
   "source": [
    "# SPLIT TO TASK (DEBUG)"
   ]
  },
  {
   "cell_type": "code",
   "execution_count": 19,
   "metadata": {},
   "outputs": [],
   "source": [
    "def get_indices(y, task):\n",
    "    return [i for i in range(y.shape[0]) if y[i] in task]\n",
    "\n",
    "\n",
    "def prepare_synbols(x, y, tasks):\n",
    "    # convert char labels to int\n",
    "    labels_data = np.zeros(x.shape[0]).astype(np.int16)\n",
    "    y_char = [yi['char'] for yi in y]\n",
    "    all_chars = sorted(list(set(y_char)))\n",
    "    for i in range(x.shape[0]):\n",
    "        labels_data[i] = all_chars.index(y_char[i])\n",
    "\n",
    "    # create task data\n",
    "    task_data = np.zeros(x.shape[0]).astype(np.int16)\n",
    "    for tid, task in enumerate(tasks):\n",
    "        task_indices = get_indices(labels_data, task)\n",
    "\n",
    "        task_data[task_indices] = tid\n",
    "\n",
    "    return x, labels_data, task_data"
   ]
  },
  {
   "cell_type": "code",
   "execution_count": 138,
   "metadata": {},
   "outputs": [
    {
     "name": "stdout",
     "output_type": "stream",
     "text": [
      "tasks split:  [array([17, 12,  6,  3]), array([16,  5,  1,  7]), array([13,  9, 19,  4]), array([11,  8,  2, 18]), array([10, 14,  0, 15])]\n"
     ]
    }
   ],
   "source": [
    "# create tasks and shuffle\n",
    "tasks = [x for x in range(0, N_CLASSES)]\n",
    "random.shuffle(tasks)\n",
    "tasks = np.array_split(tasks, N_TASKS)\n",
    "\n",
    "x, y, t = prepare_synbols(x_train, y_train, tasks)\n",
    "print('tasks split: ', tasks)"
   ]
  },
  {
   "cell_type": "markdown",
   "metadata": {},
   "source": [
    "# sanity check (DEBUG)"
   ]
  },
  {
   "cell_type": "code",
   "execution_count": 152,
   "metadata": {},
   "outputs": [
    {
     "data": {
      "image/png": "[encoded data removed]",
      "text/plain": [
       "<Figure size 1440x1008 with 10 Axes>"
      ]
     },
     "metadata": {
      "needs_background": "light"
     },
     "output_type": "display_data"
    }
   ],
   "source": [
    "num_examples = 10\n",
    "fig, axs = plt.subplots(nrows=1, ncols=num_examples, figsize=(20,14))\n",
    "for ax, x_i, y_i, t_i in zip(axs.flatten(), x[:num_examples], y[:num_examples], t[:num_examples]):\n",
    "    ax.imshow(x_i)\n",
    "    ax.set_title(f\"y{y_i}-t{t_i}\")\n",
    "    ax.axis('off')"
   ]
  },
  {
   "cell_type": "markdown",
   "metadata": {},
   "source": [
    "# SURPLUS: pytorch conversion"
   ]
  },
  {
   "cell_type": "code",
   "execution_count": 6,
   "metadata": {},
   "outputs": [],
   "source": [
    "\n",
    "# We define our Pytorch Dataset\n",
    "class SynbolsDataset(torch.utils.data.Dataset):\n",
    "    def __init__(self, x, y, transform):\n",
    "        self.x, self.y, self.transform = x,y,transform\n",
    "        self.y = [yi['char'] for yi in self.y]\n",
    "        self._all_chars = sorted(list(set(self.y)))\n",
    "        \n",
    "    def __len__(self):\n",
    "        return len(self.x)\n",
    "\n",
    "    def __getitem__(self, idx):\n",
    "        x,y = self.x[idx], self.y[idx]\n",
    "        return self.transform(x), self._all_chars.index(y)\n",
    "    \n",
    "# Create our Synbols datasets\n",
    "TRANS_TRAIN = T.Compose([T.ToPILImage(), T.RandomHorizontalFlip(), T.ToTensor()])\n",
    "TRANS_TEST = T.Compose([T.ToPILImage(), T.ToTensor()])\n",
    "\n",
    "train_ds = SynbolsDataset(x_train, y_train, transform=TRANS_TRAIN)\n",
    "val_ds = SynbolsDataset(x_val, y_val, transform=TRANS_TEST)\n",
    "test_ds = SynbolsDataset(x_test, y_test, transform=TRANS_TEST)"
   ]
  }
 ],
 "metadata": {
  "kernelspec": {
   "display_name": "Python 3 (ipykernel)",
   "language": "python",
   "name": "python3"
  },
  "language_info": {
   "codemirror_mode": {
    "name": "ipython",
    "version": 3
   },
   "file_extension": ".py",
   "mimetype": "text/x-python",
   "name": "python",
   "nbconvert_exporter": "python",
   "pygments_lexer": "ipython3",
   "version": "3.10.14"
  }
 },
 "nbformat": 4,
 "nbformat_minor": 4
}
